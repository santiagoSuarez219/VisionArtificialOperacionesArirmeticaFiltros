{
 "cells": [
  {
   "cell_type": "markdown",
   "metadata": {},
   "source": [
    "# Librerias"
   ]
  },
  {
   "cell_type": "code",
   "execution_count": null,
   "metadata": {},
   "outputs": [],
   "source": [
    "import matplotlib.pyplot as plt\n",
    "import matplotlib.image as img\n",
    "from google.colab.patches import cv2_imshow\n",
    "from PIL import Image\n",
    "import numpy as np\n",
    "import cv2\n",
    "import random"
   ]
  },
  {
   "cell_type": "code",
   "execution_count": null,
   "metadata": {},
   "outputs": [],
   "source": [
    "def histogram(image):\n",
    "  unique_values, counts = np.unique(image, return_counts=True)\n",
    "  for i in range(len(unique_values)):\n",
    "    return unique_values,counts\n",
    "\n",
    "# x , y = histogram(image)\n",
    "# plt.bar(x,y)"
   ]
  },
  {
   "cell_type": "markdown",
   "metadata": {},
   "source": [
    "# Operaciones aritmeticas"
   ]
  },
  {
   "cell_type": "code",
   "execution_count": null,
   "metadata": {},
   "outputs": [],
   "source": [
    "# Descargue una imagen en su computadora y carguela en el entorno de Google Colab\n",
    "# Lea la imagen y muestrela en pantalla con OpenCV\n",
    "# Ejecute una suma ponderada a la imagen\n",
    "# Muestre la imagen resultante en pantalla\n"
   ]
  },
  {
   "cell_type": "code",
   "execution_count": null,
   "metadata": {},
   "outputs": [],
   "source": [
    "# Generador de imagenes con ruido \n",
    "image = cv2.imread('direccion_url_imagen.jpg')\n",
    "\n",
    "noise_images = []\n",
    "np.random.seed(42)\n",
    "for i in range(3): # 1 a 10\n",
    "  noise = np.random.normal(0, 30, image.shape)\n",
    "  noise_image = image + np.ceil(noise)\n",
    "  noise_images.append(noise_image)\n",
    "for i in range(len(noise_images)):\n",
    "  cv2_imshow(noise_images[i])\n",
    "  cv2.imwrite(f\"sumapromedio{i}.jpg\" ,noise_images[i])"
   ]
  },
  {
   "cell_type": "code",
   "execution_count": null,
   "metadata": {},
   "outputs": [],
   "source": [
    "# Realice una suma promedio de las imagenes generadas. "
   ]
  },
  {
   "cell_type": "code",
   "execution_count": null,
   "metadata": {},
   "outputs": [],
   "source": [
    "# Descargue una imagen en su computadora y carguela en el entorno de Google Colab\n",
    "# Lea la imagen y muestrela en pantalla con OpenCV\n",
    "# Sume una constante a la imagen\n",
    "# Muestre la imagen resultante en pantalla"
   ]
  },
  {
   "cell_type": "code",
   "execution_count": null,
   "metadata": {},
   "outputs": [],
   "source": [
    "# Descargue una imagen en su computadora y carguela en el entorno de Google Colab\n",
    "# Lea la imagen y muestrela en pantalla con OpenCV\n",
    "# Reste una constante a la imagen\n",
    "# Muestre la imagen resultante en pantalla"
   ]
  },
  {
   "cell_type": "code",
   "execution_count": null,
   "metadata": {},
   "outputs": [],
   "source": [
    "# Descargue una imagen en su computadora y carguela en el entorno de Google Colab\n",
    "# Lea la imagen y muestrela en pantalla con OpenCV\n",
    "# Multiplique por una constante a la imagen\n",
    "# Muestre la imagen resultante en pantalla\n",
    "# Que sucede con el histograma de la imagen"
   ]
  },
  {
   "cell_type": "markdown",
   "metadata": {},
   "source": [
    "# Filtros"
   ]
  },
  {
   "cell_type": "code",
   "execution_count": null,
   "metadata": {},
   "outputs": [],
   "source": [
    "# Lea la imagen lena_sp.jpg y muestrela en pantalla con OpenCV\n",
    "# Aplique un fitro promedio a la imagen\n",
    "# Aplique un filtro gaussiano a la imagen"
   ]
  }
 ],
 "metadata": {
  "language_info": {
   "name": "python"
  }
 },
 "nbformat": 4,
 "nbformat_minor": 2
}
