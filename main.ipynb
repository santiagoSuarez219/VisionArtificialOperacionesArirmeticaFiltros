{
 "cells": [
  {
   "cell_type": "markdown",
   "metadata": {},
   "source": [
    "# Librerias"
   ]
  },
  {
   "cell_type": "code",
   "execution_count": null,
   "metadata": {},
   "outputs": [],
   "source": [
    "import numpy as np\n",
    "import matplotlib.pyplot as plt\n",
    "import matplotlib.image as img\n",
    "from google.colab.patches import cv2_imshow\n",
    "import cv2\n",
    "import random\n",
    "from PIL import Image"
   ]
  },
  {
   "cell_type": "markdown",
   "metadata": {},
   "source": [
    "# Operaciones Aritmeticas"
   ]
  },
  {
   "cell_type": "markdown",
   "metadata": {},
   "source": [
    "## Suma"
   ]
  },
  {
   "cell_type": "code",
   "execution_count": null,
   "metadata": {},
   "outputs": [],
   "source": [
    "image1 = cv2.imread('/content/Imagen1SumaP.jpg')\n",
    "image2 = cv2.imread('/content/Imagen2SumaP.jpg')\n",
    "cv2_imshow(image1)\n",
    "cv2_imshow(image2)"
   ]
  },
  {
   "cell_type": "code",
   "execution_count": null,
   "metadata": {},
   "outputs": [],
   "source": [
    "Sumaponderada = 0.5*image1 + 0.5*image2\n",
    "cv2_imshow(Sumaponderada)"
   ]
  },
  {
   "cell_type": "markdown",
   "metadata": {},
   "source": [
    "## Suma promedio"
   ]
  },
  {
   "cell_type": "code",
   "execution_count": null,
   "metadata": {},
   "outputs": [],
   "source": [
    "# Generador de imagenes con ruido \n",
    "image = cv2.imread('/content/sumaPromedio.jpg')\n",
    "noise_images = []\n",
    "np.random.seed(42)\n",
    "for i in range(3): # 1 a 10\n",
    "  noise = np.random.normal(0, 30, image.shape)\n",
    "  noise_image = image + np.ceil(noise)\n",
    "  noise_images.append(noise_image)\n",
    "for i in range(len(noise_images)):\n",
    "  cv2_imshow(noise_images[i])\n",
    "  cv2.imwrite(f\"sumapromedio{i}.jpg\" ,noise_images[i])"
   ]
  },
  {
   "cell_type": "code",
   "execution_count": null,
   "metadata": {},
   "outputs": [],
   "source": [
    "image3 = cv2.imread('/content/sumapromedio0.jpg')\n",
    "image4 = cv2.imread('/content/sumapromedio1.jpg')\n",
    "image5 = cv2.imread('/content/sumapromedio2.jpg')\n",
    "sumaPromedioOriginal = cv2.imread('/content/sumaPromedio.jpg')\n",
    "sumapromedio = (image3.astype(np.float32) + image4.astype(np.float32) + image5.astype(np.float32))/3\n",
    "cv2_imshow(sumapromedio)\n",
    "cv2_imshow(sumaPromedioOriginal)"
   ]
  },
  {
   "cell_type": "code",
   "execution_count": null,
   "metadata": {},
   "outputs": [],
   "source": [
    "image = cv2.imread('/content/imagenSuma.jpg')\n",
    "cv2_imshow(image)\n",
    "image_plus_70 = image + 70\n",
    "cv2_imshow(image_plus_70)"
   ]
  },
  {
   "cell_type": "markdown",
   "metadata": {},
   "source": [
    "## Resta"
   ]
  },
  {
   "cell_type": "code",
   "execution_count": null,
   "metadata": {},
   "outputs": [],
   "source": [
    "img1 = plt.imread(\"ImagenResta1.png\")\n",
    "img2 = plt.imread(\"ImagenResta2.png\")"
   ]
  },
  {
   "cell_type": "code",
   "execution_count": null,
   "metadata": {},
   "outputs": [],
   "source": [
    "plt.imshow(img1[:,:,0], cmap=\"gray\")\n",
    "plt.show()"
   ]
  },
  {
   "cell_type": "code",
   "execution_count": null,
   "metadata": {},
   "outputs": [],
   "source": [
    "plt.imshow(img2[:,:,0], cmap=\"gray\")\n",
    "plt.show()"
   ]
  },
  {
   "cell_type": "code",
   "execution_count": null,
   "metadata": {},
   "outputs": [],
   "source": [
    "imagen_restada = abs(img1[:,:,0] - img2[:,:,0][:314, :311]) \n",
    "plt.imshow(imagen_restada, cmap=\"gray\")\n",
    "plt.show()"
   ]
  },
  {
   "cell_type": "code",
   "execution_count": null,
   "metadata": {},
   "outputs": [],
   "source": [
    "img3 = plt.imread(\"ImagenResta3.jpg\")\n",
    "plt.imshow(img3[:,:,0], cmap=\"gray\")\n",
    "plt.show()"
   ]
  },
  {
   "cell_type": "code",
   "execution_count": null,
   "metadata": {},
   "outputs": [],
   "source": [
    "imagen_restada2 = abs(img3[:,:,0] - 20)\n",
    "plt.imshow(imagen_restada2, cmap=\"gray\")\n",
    "plt.show()"
   ]
  },
  {
   "cell_type": "markdown",
   "metadata": {},
   "source": [
    "## Multiplicacion"
   ]
  },
  {
   "cell_type": "code",
   "execution_count": null,
   "metadata": {},
   "outputs": [],
   "source": [
    "img9 = plt.imread(\"ImagenMultiplicacion.jpg\")\n",
    "plt.imshow(img9[:,:,0], cmap = 'gray')\n",
    "plt.show()"
   ]
  },
  {
   "cell_type": "code",
   "execution_count": null,
   "metadata": {},
   "outputs": [],
   "source": [
    "img_multiplicada = img9[:,:,0].copy()*2"
   ]
  },
  {
   "cell_type": "code",
   "execution_count": null,
   "metadata": {},
   "outputs": [],
   "source": [
    "plt.imshow(np.clip(img_multiplicada, 1, 255), cmap = 'gray')\n",
    "plt.show()"
   ]
  },
  {
   "cell_type": "code",
   "execution_count": null,
   "metadata": {},
   "outputs": [],
   "source": [
    "plt.figure(figsize=(10, 5))\n",
    "plt.subplot(1, 2, 1)\n",
    "plt.imshow(img9[:,:,0], cmap='gray')\n",
    "plt.title('Imagen 1')\n",
    "\n",
    "plt.subplot(1, 2, 2)\n",
    "plt.imshow(img_multiplicada, cmap='gray')\n",
    "plt.title('Imagen 2')\n",
    "\n",
    "plt.show()"
   ]
  },
  {
   "cell_type": "markdown",
   "metadata": {},
   "source": [
    "### Multiplicacion punto a punto"
   ]
  },
  {
   "cell_type": "code",
   "execution_count": null,
   "metadata": {},
   "outputs": [],
   "source": [
    "img11 = plt.imread(\"ImagenMultiplicacion2.png\")\n",
    "img12 = plt.imread(\"ImagenMultiplicacion3.png\")"
   ]
  },
  {
   "cell_type": "code",
   "execution_count": null,
   "metadata": {},
   "outputs": [],
   "source": [
    "img11.shape"
   ]
  },
  {
   "cell_type": "code",
   "execution_count": null,
   "metadata": {},
   "outputs": [],
   "source": [
    "img12.shape"
   ]
  },
  {
   "cell_type": "code",
   "execution_count": null,
   "metadata": {},
   "outputs": [],
   "source": [
    "imagen_multiplicada = img11[:,:246,0] * img12[:246,:,0]"
   ]
  },
  {
   "cell_type": "code",
   "execution_count": null,
   "metadata": {},
   "outputs": [],
   "source": [
    "plt.imshow(imagen_multiplicada, cmap='gray')\n",
    "plt.show()"
   ]
  },
  {
   "cell_type": "markdown",
   "metadata": {},
   "source": [
    "## Compuertas Logicas"
   ]
  },
  {
   "cell_type": "code",
   "execution_count": null,
   "metadata": {},
   "outputs": [],
   "source": [
    "# OR\n",
    "imagenPanda = cv2.imread('/content/ImagenPanda.jpg')\n",
    "imagenRice = cv2.imread('/content/rice.jpg')\n",
    "\n",
    "or_image = cv2.bitwise_or(imagenPanda, imagenRice)\n",
    "\n",
    "cv2_imshow(or_image)\n"
   ]
  },
  {
   "cell_type": "code",
   "execution_count": null,
   "metadata": {},
   "outputs": [],
   "source": [
    "# AND\n",
    "imagenPanda = cv2.imread('/content/ImagenPanda.jpg')\n",
    "imagenRice = cv2.imread('/content/rice.jpg')\n",
    "\n",
    "and_image = cv2.bitwise_and(imagenPanda, imagenRice)\n",
    "\n",
    "cv2_imshow(and_image)"
   ]
  },
  {
   "cell_type": "code",
   "execution_count": null,
   "metadata": {},
   "outputs": [],
   "source": [
    "# XOR\n",
    "imagenPanda = cv2.imread('/content/ImagenPanda.jpg')\n",
    "imagenRice = cv2.imread('/content/rice.jpg')\n",
    "\n",
    "xor_image = cv2.bitwise_xor(imagenPanda, imagenRice)\n",
    "\n",
    "cv2_imshow(xor_image)"
   ]
  },
  {
   "cell_type": "code",
   "execution_count": null,
   "metadata": {},
   "outputs": [],
   "source": [
    "# NOT\n",
    "imagenRice = cv2.imread('/content/rice.jpg')\n",
    "\n",
    "not_image = cv2.bitwise_not(imagenRice)\n",
    "\n",
    "cv2_imshow(not_image)"
   ]
  },
  {
   "cell_type": "markdown",
   "metadata": {},
   "source": [
    "# Ruido"
   ]
  },
  {
   "cell_type": "markdown",
   "metadata": {},
   "source": [
    "## Ruido sal y pimienta"
   ]
  },
  {
   "cell_type": "code",
   "execution_count": null,
   "metadata": {},
   "outputs": [],
   "source": [
    "def ruido(imagen, porcentaje):\n",
    "\n",
    "    tamaño=imagen.shape[0]*imagen.shape[1]\n",
    "    auxiliar=(tamaño*porcentaje)//800\n",
    "\n",
    "    dato_minimo=0\n",
    "    dato_maximo=255\n",
    "\n",
    "    #pixeles blancos\n",
    "    for x in range(auxiliar):\n",
    "\n",
    "        coordenada_x=random.randrange(2, imagen.shape[1]-2)\n",
    "        coordenada_y=random.randrange(2, imagen.shape[0]-2)\n",
    "\n",
    "        imagen[coordenada_y, coordenada_x] = dato_maximo\n",
    "        imagen[coordenada_y, coordenada_x+1] = dato_maximo\n",
    "        imagen[coordenada_y+1, coordenada_x] = dato_maximo\n",
    "        imagen[coordenada_y+1, coordenada_x+1] = dato_maximo\n",
    "\n",
    "    #pixeles negros\n",
    "    for x in range(auxiliar):\n",
    "\n",
    "        coordenada_x=random.randrange(2, imagen.shape[1]-2)\n",
    "        coordenada_y=random.randrange(2, imagen.shape[0]-2)\n",
    "\n",
    "        imagen[coordenada_y, coordenada_x] = dato_minimo\n",
    "        imagen[coordenada_y, coordenada_x+1] = dato_minimo\n",
    "        imagen[coordenada_y+1, coordenada_x] = dato_minimo\n",
    "        imagen[coordenada_y+1, coordenada_x+1] = dato_minimo\n",
    "\n",
    "    return imagen\n",
    "\n",
    "imagen_panda = cv2.imread('/content/ImagenPanda.jpg')\n",
    "\n",
    "#llamado a la funcion pasando como parametro la imagen y el\n",
    "#porcentaje de ruido deseado\n",
    "imagen_panda = ruido(imagen_panda, 20)\n",
    "cv2_imshow(imagen_panda)"
   ]
  },
  {
   "cell_type": "code",
   "execution_count": null,
   "metadata": {},
   "outputs": [],
   "source": [
    "imagen_panda = cv2.imread('/content/ImagenPanda.jpg')\n",
    "imagen_panda_gris = cv2.cvtColor(imagen_panda, cv2.COLOR_BGR2GRAY)\n",
    "\n",
    "mean = 0\n",
    "variance = 100\n",
    "sigma = np.sqrt(variance)\n",
    "filas, columnas = imagen_panda_gris.shape\n",
    "ruido_gaussiano = np.random.normal(mean, sigma, (filas, columnas))\n",
    "imagen_panda_con_ruido_gaussiano = imagen_panda_gris + ruido_gaussiano.astype(np.uint8)\n",
    "imagen_panda_con_ruido_gaussiano = np.clip(imagen_panda_con_ruido_gaussiano, 0, 255).astype(np.uint8)\n",
    "cv2_imshow(imagen_panda_con_ruido_gaussiano)"
   ]
  },
  {
   "cell_type": "markdown",
   "metadata": {},
   "source": [
    "# Filtros con mascaras"
   ]
  },
  {
   "cell_type": "markdown",
   "metadata": {},
   "source": [
    "## Filtro promedio"
   ]
  },
  {
   "cell_type": "code",
   "execution_count": null,
   "metadata": {},
   "outputs": [],
   "source": [
    "lenna_gn = plt.imread('lenna_gn.png')\n",
    "plt.figure()\n",
    "plt.imshow(lenna_gn, cmap = 'gray')"
   ]
  },
  {
   "cell_type": "code",
   "execution_count": null,
   "metadata": {},
   "outputs": [],
   "source": [
    "k = 1\n",
    "tamano = 2*k + 1 # deben ser de un tamano impar # Que pasa si aumentamos el tamano de K\n",
    "kernel = np.ones((tamano, tamano), np.float32)/ (tamano **2)\n",
    "\n",
    "print(kernel)\n",
    "\n",
    "plt.imshow(kernel)\n",
    "plt.show()"
   ]
  },
  {
   "cell_type": "code",
   "execution_count": null,
   "metadata": {},
   "outputs": [],
   "source": [
    "img_filtrada = cv2.filter2D(lenna_gn, -1, kernel)"
   ]
  },
  {
   "cell_type": "code",
   "execution_count": null,
   "metadata": {},
   "outputs": [],
   "source": [
    "plt.figure(figsize=(14,14))\n",
    "\n",
    "plt.subplot(221)\n",
    "plt.imshow(lenna_gn, cmap = 'gray')\n",
    "plt.title('Imagen con ruido')\n",
    "\n",
    "\n",
    "plt.subplot(222)\n",
    "plt.imshow(img_filtrada, cmap = 'gray')\n",
    "plt.title('Filtro promedio')\n",
    "\n",
    "plt.show()"
   ]
  },
  {
   "cell_type": "markdown",
   "metadata": {},
   "source": [
    "## Filtro gaussiano"
   ]
  },
  {
   "cell_type": "code",
   "execution_count": null,
   "metadata": {},
   "outputs": [],
   "source": [
    "lenna_sp = plt.imread('lenna_sp.png')\n",
    "plt.figure()\n",
    "plt.imshow(lenna_sp, cmap = 'gray')"
   ]
  },
  {
   "cell_type": "code",
   "execution_count": null,
   "metadata": {},
   "outputs": [],
   "source": [
    "width  = 20\n",
    "s      = width/8.5\n",
    "kernel = cv2.getGaussianKernel(width, s)         # Gaussian width x 1  (width = size, s = sigma)\n",
    "kernel_gaussiano = np.outer(kernel, kernel.transpose())   # Gaussian width x width"
   ]
  },
  {
   "cell_type": "code",
   "execution_count": null,
   "metadata": {},
   "outputs": [],
   "source": [
    "img_difuminada = cv2.filter2D(lenna_gn, -1,kernel_gaussiano)"
   ]
  },
  {
   "cell_type": "code",
   "execution_count": null,
   "metadata": {},
   "outputs": [],
   "source": [
    "plt.figure(figsize=(14,14))\n",
    "\n",
    "plt.subplot(221)\n",
    "plt.imshow(lenna_gn, cmap = 'gray')\n",
    "plt.title('Imagen con ruido')\n",
    "\n",
    "\n",
    "plt.subplot(222)\n",
    "plt.imshow(img_difuminada, cmap = 'gray')\n",
    "plt.title('Filtro promedio')\n",
    "\n",
    "plt.show()"
   ]
  }
 ],
 "metadata": {
  "language_info": {
   "name": "python"
  }
 },
 "nbformat": 4,
 "nbformat_minor": 2
}
